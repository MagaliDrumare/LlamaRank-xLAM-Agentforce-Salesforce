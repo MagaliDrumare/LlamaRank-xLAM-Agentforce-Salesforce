{
  "nbformat": 4,
  "nbformat_minor": 0,
  "metadata": {
    "colab": {
      "private_outputs": true,
      "provenance": [],
      "authorship_tag": "ABX9TyP4iYhtCMyY0CGiW+14qj2m",
      "include_colab_link": true
    },
    "kernelspec": {
      "name": "python3",
      "display_name": "Python 3"
    },
    "language_info": {
      "name": "python"
    }
  },
  "cells": [
    {
      "cell_type": "markdown",
      "metadata": {
        "id": "view-in-github",
        "colab_type": "text"
      },
      "source": [
        "<a href=\"https://colab.research.google.com/github/MagaliDrumare/LlamaRank-xLAM-Agentforce-Salesforce/blob/main/Salesforce_Llama_Rank_Together.ipynb\" target=\"_parent\"><img src=\"https://colab.research.google.com/assets/colab-badge.svg\" alt=\"Open In Colab\"/></a>"
      ]
    },
    {
      "cell_type": "code",
      "source": [
        "pip install cohere"
      ],
      "metadata": {
        "id": "icgg4nyIx65S"
      },
      "execution_count": null,
      "outputs": []
    },
    {
      "cell_type": "code",
      "execution_count": null,
      "metadata": {
        "id": "csxuT105xY3_"
      },
      "outputs": [],
      "source": [
        "\n",
        "import cohere\n",
        "\n",
        "co = cohere.Client(\n",
        "    base_url=\"https://api.together.xyz/v1\",\n",
        "    api_key= 'XXXXXXXXXXXXXXXXXXXX',\n",
        ")\n",
        "docs = [\n",
        "    \"Carson City is the capital city of the American state of Nevada.\",\n",
        "    \"The Commonwealth of the Northern Mariana Islands is a group of islands in the Pacific Ocean. Its capital is Saipan.\",\n",
        "    \"Capitalization or capitalisation in English grammar is the use of a capital letter at the start of a word. English usage varies from capitalization in other languages.\",\n",
        "    \"Washington, D.C. (also known as simply Washington or D.C., and officially as the District of Columbia) is the capital of the United States. It is a federal district.\",\n",
        "    \"Capital punishment (the death penalty) has existed in the United States since beforethe United States was a country. As of 2017, capital punishment is legal in 30 of the 50 states.\",\n",
        "]\n",
        "response = co.rerank(\n",
        "    model=\"Salesforce/Llama-Rank-V1\",\n",
        "    query=\"What is the capital of the United States?\",\n",
        "    documents=docs,\n",
        "    top_n=3,\n",
        ")\n"
      ]
    },
    {
      "cell_type": "markdown",
      "source": [],
      "metadata": {
        "id": "3i9N_79j0Fix"
      }
    },
    {
      "cell_type": "code",
      "source": [
        "print(response)"
      ],
      "metadata": {
        "id": "1fDF1Oli02g9"
      },
      "execution_count": null,
      "outputs": []
    },
    {
      "cell_type": "code",
      "source": [
        "pip install together"
      ],
      "metadata": {
        "id": "pZAGaF_O1CXz"
      },
      "execution_count": null,
      "outputs": []
    },
    {
      "cell_type": "code",
      "source": [
        "from together import Together\n",
        "\n",
        "client = Together(api_key='13a8841ee92316e57c28d899b4008443ed6488ef09ab38ae9401a02eaa48bf0e')\n",
        "\n",
        "query = \"Which pricing did we get from Oracle?\"\n",
        "\n",
        "documents = [\n",
        "    {\n",
        "        \"from\": \"Paul Doe \",\n",
        "        \"to\": [\"Steve \", \"lisa@example.com\"],\n",
        "        \"date\": \"2024-03-27\",\n",
        "        \"subject\": \"Follow-up\",\n",
        "        \"text\": \"We are happy to give you the following pricing for your project.\",\n",
        "    },\n",
        "    {\n",
        "        \"from\": \"John McGill \",\n",
        "        \"to\": [\"Steve \"],\n",
        "        \"date\": \"2024-03-28\",\n",
        "        \"subject\": \"Missing Information\",\n",
        "        \"text\": \"Sorry, but here is the pricing you asked for for the newest line of your models.\",\n",
        "    },\n",
        "    {\n",
        "        \"from\": \"John McGill \",\n",
        "        \"to\": [\"Steve \"],\n",
        "        \"date\": \"2024-02-15\",\n",
        "        \"subject\": \"Commited Pricing Strategy\",\n",
        "        \"text\": \"I know we went back and forth on this during the call but the pricing for now should follow the agreement at hand.\",\n",
        "    },\n",
        "    {\n",
        "        \"from\": \"Generic Airline Company\",\n",
        "        \"to\": [\"Steve \"],\n",
        "        \"date\": \"2023-07-25\",\n",
        "        \"subject\": \"Your latest flight travel plans\",\n",
        "        \"text\": \"Thank you for choose to fly Generic Airline Company. Your booking status is confirmed.\",\n",
        "    },\n",
        "    {\n",
        "        \"from\": \"Generic SaaS Company\",\n",
        "        \"to\": [\"Steve \"],\n",
        "        \"date\": \"2024-01-26\",\n",
        "        \"subject\": \"How to build generative AI applications using Generic Company Name\",\n",
        "        \"text\": \"Hey Steve! Generative AI is growing so quickly and we know you want to build fast!\",\n",
        "    },\n",
        "    {\n",
        "        \"from\": \"Paul Doe \",\n",
        "        \"to\": [\"Steve \", \"lisa@example.com\"],\n",
        "        \"date\": \"2024-04-09\",\n",
        "        \"subject\": \"Price Adjustment\",\n",
        "        \"text\": \"Re: our previous correspondence on 3/27 we'd like to make an amendment on our pricing proposal. We'll have to decrease the expected base price by 5%.\",\n",
        "    },\n",
        "]\n",
        "\n",
        "response = client.rerank.create(\n",
        "    model=\"Salesforce/Llama-Rank-V1\",\n",
        "    query=query,\n",
        "    documents=documents,\n",
        "    return_documents=True,\n",
        "    rank_fields=[\"from\", \"to\", \"date\", \"subject\", \"text\"],\n",
        ")\n",
        "\n",
        "print(response)\n",
        "\n"
      ],
      "metadata": {
        "id": "3G24M0d20_p1"
      },
      "execution_count": null,
      "outputs": []
    }
  ]
}
